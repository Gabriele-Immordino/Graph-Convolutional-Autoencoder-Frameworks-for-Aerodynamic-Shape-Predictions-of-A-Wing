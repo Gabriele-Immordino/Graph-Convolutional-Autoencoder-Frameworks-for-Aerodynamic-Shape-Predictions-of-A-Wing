{
 "cells": [
  {
   "cell_type": "code",
   "execution_count": null,
   "metadata": {},
   "outputs": [],
   "source": [
    "import numpy as np \n",
    "import pandas as pd\n",
    "import os\n",
    "import shutil\n",
    "from functions.space import Space\n",
    "from functions.utils import LoadBar"
   ]
  },
  {
   "cell_type": "code",
   "execution_count": null,
   "metadata": {},
   "outputs": [],
   "source": [
    "# Define Variables\n",
    "coordinates  = np.array(pd.read_csv('Dimensionality_reduction\\Adjency_matrix\\\\coordinates.csv', header = None))\n",
    "point_id = np.argsort(coordinates[:, -1].astype(int))\n",
    "connectivity = pd.read_csv('Dimensionality_reduction\\Adjency_matrix\\\\adjacency_matrix.csv')\n",
    "edge_indices = connectivity[['point_i', 'point_j']]\n",
    "edge_distances  = np.load(\"Dimensionality_reduction\\Adjency_matrix\\\\edge_weight_array.npy\") # connectivity[['distance']]\n",
    "output_dir_path = 'output\\\\'"
   ]
  },
  {
   "cell_type": "code",
   "execution_count": null,
   "metadata": {},
   "outputs": [],
   "source": [
    "DELETE_ALL = True  # Flag to determine whether to delete all previous outputs\n",
    "\n",
    "if DELETE_ALL:\n",
    "    try:\n",
    "        shutil.rmtree(output_dir_path)  # Remove the output directory and all its contents\n",
    "        os.makedirs(output_dir_path)    # Recreate the output directory\n",
    "    except Exception as e:\n",
    "        print(f\"Error removing folder {output_dir_path}\")  # Print error if removal fails\n",
    "        raise e\n",
    "\n",
    "np.random.seed(0)  # Set random seed for reproducibility\n",
    "dataset_pressure_gradient = np.load('input\\\\agard_doe_r002_dataset_pressure_gradient.npy')  # Load pressure gradient dataset\n",
    "# Compute gradient magnitude\n",
    "gradient_magnitude = np.linalg.norm(dataset_pressure_gradient, axis=-1)  # Calculate the magnitude of the gradient for each sample\n",
    "\n",
    "compression_ratio = 4  # Set the compression ratio\n",
    "\n",
    "npoints1 = int(gradient_magnitude.shape[-1]/compression_ratio)  # Number of points after first compression\n",
    "npoints2 = int(npoints1/compression_ratio)  # Number of points after second compression\n",
    "\n",
    "loadbar = LoadBar()  # Initialize the loading bar\n",
    "\n",
    "for sample in range(gradient_magnitude.shape[0]):  # Iterate over all samples\n",
    "    output_dir = output_dir_path + f'Sample_{sample:03d}\\\\'  # Define output directory for the current sample\n",
    "    if not os.path.exists(output_dir):\n",
    "        os.makedirs(output_dir)  # Create output directory if it doesn't exist\n",
    "    else: continue  # Skip if directory already exists\n",
    "    loadbar.tick()  # Update the loading bar\n",
    "    ed_dis = pd.DataFrame({\"distance\":edge_distances[sample,:]})  # Create DataFrame for edge distances\n",
    "\n",
    "    space1 = Space()  # Initialize first Space object\n",
    "    print(loadbar.loadBarI(sample,gradient_magnitude.shape[0],suffix=\"Creating space1...\", prefix=f'Sample_{sample:03d}:'), end = \"\\r\")\n",
    "    space1.create(npoints1, gradient_magnitude[sample,:], coordinates, point_id, edge_indices, ed_dis)  # Create first reduced space\n",
    "\n",
    "    print(loadbar.loadBarI(sample,gradient_magnitude.shape[0],suffix=\"Saving space1...\", prefix=f'Sample_{sample:03d}:'), end = \"\\r\")\n",
    "    space1.save(output_dir+\"space1\")  # Save first reduced space\n",
    "\n",
    "    space2 = Space()  # Initialize second Space object\n",
    "    print(loadbar.loadBarI(sample,gradient_magnitude.shape[0],suffix=\"Creating space2...\", prefix=f'Sample_{sample:03d}:'), end = \"\\r\")\n",
    "    space2.create(npoints2, space1.magnitude_reduced, space1.coordinates_reduced, space1.point_id_reduced, space1.edge_indices_reduced, space1.edge_distances_reduced, space2=True)  # Create second reduced space\n",
    "\n",
    "    print(loadbar.loadBarI(sample,gradient_magnitude.shape[0],suffix=\"Saving space2...\", prefix=f'Sample_{sample:03d}:'), end = \"\\r\")\n",
    "    space2.save(output_dir+\"space2\")  # Save second reduced space\n",
    "\n",
    "    loadbar.tock()  # Finalize the loading bar for this iteration\n"
   ]
  }
 ],
 "metadata": {
  "kernelspec": {
   "display_name": "pytorch-env",
   "language": "python",
   "name": "python3"
  },
  "language_info": {
   "codemirror_mode": {
    "name": "ipython",
    "version": 3
   },
   "file_extension": ".py",
   "mimetype": "text/x-python",
   "name": "python",
   "nbconvert_exporter": "python",
   "pygments_lexer": "ipython3",
   "version": "3.8.18"
  }
 },
 "nbformat": 4,
 "nbformat_minor": 2
}
